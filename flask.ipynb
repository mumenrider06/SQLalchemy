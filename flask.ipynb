{
 "cells": [
  {
   "cell_type": "code",
   "execution_count": 2,
   "metadata": {},
   "outputs": [],
   "source": [
    "from flask import Flask, jsonify\n",
    "import pandas as pd\n",
    "\n",
    "# initialize app\n",
    "app = Flask(__name__)\n",
    "\n",
    "# read in CSVs for later manipulation\n",
    "measurements = pd.DataFrame(pd.read_csv(\"measurements_clean.csv\"))\n",
    "stations = pd.DataFrame(pd.read_csv(\"stations_clean.csv\"))\n",
    "\n",
    "# isolate date and precipitation, convert to dict to prepare for delivery\n",
    "prcp_dict = measurements[['date', 'prcp']].set_index('date').to_dict()\n",
    "\n",
    "# convert station dataframe to dictionary\n",
    "stat_dict = stations.to_dict(orient='index')\n",
    "\n",
    "# convert temperature information to dictionary\n",
    "temp_dict = measurements[['date', 'tobs']].set_index('date').to_dict()\n",
    "\n",
    "# convert date field in measurements to make searchable\n",
    "new_measurements = measurements\n",
    "new_measurements.date = new_measurements.date.map(lambda x: x.replace(\"-\", \"\")).astype(int)\n"
   ]
  },
  {
   "cell_type": "code",
   "execution_count": 3,
   "metadata": {},
   "outputs": [
    {
     "name": "stderr",
     "output_type": "stream",
     "text": [
      " * Running on http://127.0.0.1:5000/ (Press CTRL+C to quit)\n",
      " * Restarting with stat\n"
     ]
    },
    {
     "ename": "SystemExit",
     "evalue": "1",
     "output_type": "error",
     "traceback": [
      "An exception has occurred, use %tb to see the full traceback.\n",
      "\u001b[0;31mSystemExit\u001b[0m\u001b[0;31m:\u001b[0m 1\n"
     ]
    },
    {
     "name": "stderr",
     "output_type": "stream",
     "text": [
      "/Users/Sausage/anaconda3/lib/python3.6/site-packages/IPython/core/interactiveshell.py:2870: UserWarning: To exit: use 'exit', 'quit', or Ctrl-D.\n",
      "  warn(\"To exit: use 'exit', 'quit', or Ctrl-D.\", stacklevel=1)\n"
     ]
    }
   ],
   "source": [
    "\n",
    "@app.route(\"/api/v1.0\")\n",
    "def index():\n",
    "    print('Someone has visited the index page')\n",
    "    return \"Welcome to the index page.\"\n",
    "\n",
    "@app.route(\"/api/v1.0/precipitation\")\n",
    "def precipitation():\n",
    "    print('Someone has visited the precipitation page')\n",
    "    return jsonify(prcp_dict['prcp'])\n",
    "\n",
    "@app.route(\"/api/v1.0/stations\")\n",
    "def stations():\n",
    "    print('Someone has visited the stations page')\n",
    "    return jsonify(stat_dict)\n",
    "\n",
    "@app.route(\"/api/v1.0/tobs\")\n",
    "def tobs():\n",
    "    print('Someone has visited the temperature page')\n",
    "    return jsonify(temp_dict)\n",
    "\n",
    "@app.route(\"/api/v1.0/<start>\")\n",
    "def start(start):\n",
    "    print('Someone has visited the start page')\n",
    "    parsed_start = int(start.replace('-', ''))\n",
    "    parsed_end = new_measurements.date.max()\n",
    "    subset_meas = new_measurements[(new_measurements.date >= parsed_start) & (new_measurements.date <= parsed_end)]\n",
    "    maxtemp = subset_meas.tobs.max()\n",
    "    mintemp = subset_meas.tobs.min()\n",
    "    avgtemp = subset_meas.tobs.mean()\n",
    "    print('For date range selected, the:\\nMax temp is: ', maxtemp, '\\nMin temp is: ', mintemp, '\\nAverage temp is: ', avgtemp)\n",
    "    return jsonify({\"Maximum Temperature\": str(maxtemp),\n",
    "                    \"Minimum Temperature\": str(mintemp),\n",
    "                    \"Average Temperature\": str(avgtemp)})\n",
    "\n",
    "@app.route(\"/api/v1.0/<start>/<end>\")\n",
    "def start_end(start, end):\n",
    "    print(\"Someone has visited the start/end page\")\n",
    "    parsed_start = int(start.replace('-', ''))\n",
    "    parsed_end = int(end.replace('-', ''))\n",
    "    subset_meas = new_measurements[(new_measurements.date >= parsed_start) & (new_measurements.date <= parsed_end)]\n",
    "    maxtemp = subset_meas.tobs.max()\n",
    "    mintemp = subset_meas.tobs.min()\n",
    "    avgtemp = subset_meas.tobs.mean()\n",
    "    print('For date range selected, the:\\nMax temp is: ', maxtemp, '\\nMin temp is: ', mintemp, '\\nAverage temp is: ', avgtemp)\n",
    "    return jsonify({\"Maximum Temperature\": str(maxtemp),\n",
    "                    \"Minimum Temperature\": str(mintemp),\n",
    "                    \"Average Temperature\": str(avgtemp)})\n",
    "\n",
    "\n",
    "\n",
    "if __name__ == \"__main__\":\n",
    "    app.run(debug=True)"
   ]
  },
  {
   "cell_type": "code",
   "execution_count": null,
   "metadata": {
    "collapsed": true
   },
   "outputs": [],
   "source": []
  }
 ],
 "metadata": {
  "kernelspec": {
   "display_name": "Python 3",
   "language": "python",
   "name": "python3"
  },
  "language_info": {
   "codemirror_mode": {
    "name": "ipython",
    "version": 3
   },
   "file_extension": ".py",
   "mimetype": "text/x-python",
   "name": "python",
   "nbconvert_exporter": "python",
   "pygments_lexer": "ipython3",
   "version": "3.6.3"
  }
 },
 "nbformat": 4,
 "nbformat_minor": 2
}
